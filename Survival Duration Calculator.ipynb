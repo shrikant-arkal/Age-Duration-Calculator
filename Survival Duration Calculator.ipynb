{
 "cells": [
  {
   "cell_type": "code",
   "execution_count": 1,
   "id": "78c6ede0-831d-4552-ae8d-ef1023b34f36",
   "metadata": {},
   "outputs": [
    {
     "name": "stdin",
     "output_type": "stream",
     "text": [
      "What's your age? 20\n",
      "Please choose time unit: Months, Weeks, Days, Hours, Minutes, Seconds. \n",
      "Note: You can write the first letter or the full name of the time unit. m\n"
     ]
    },
    {
     "name": "stdout",
     "output_type": "stream",
     "text": [
      "you lived for 240 months\n"
     ]
    }
   ],
   "source": [
    "\n",
    "def duration_calculator(age,time_unit):\n",
    "    if time_unit.lower() == 'months' or time_unit.lower ()== 'm':\n",
    "        duration = age*12   #convert age into months\n",
    "        return f\"you lived for {duration} months\"\n",
    "        \n",
    "    elif time_unit.lower() == 'weeks' or time_unit.lower() == 'w':\n",
    "        duration = age*52   #convert age into weeks\n",
    "        return f\"You Lived For {duration} Weeks\" \n",
    "        \n",
    "    elif time_unit.lower() == 'days' or time_unit.lower() == 'd':\n",
    "        duration = age*365  #convert age into days\n",
    "        return f\"You Lived For {duration} Days\"\n",
    "        \n",
    "    elif time_unit.lower()== 'hours' or time_unit.lower() == 'h':\n",
    "        duration = age*365*24  #convert age into hours\n",
    "        return f\"You Lived For {duration} Hours\"\n",
    "        \n",
    "    elif time_unit.lower() == 'minuts' or time_unit.lower() == 'min':\n",
    "        duration = age*365*24*60  #convert age into minuts\n",
    "        return f\"You Lived For {duration} Minuts\"\n",
    "        \n",
    "    elif time_unit.lower() == 'seconds' or time_unit.lower() == 'sec':\n",
    "        duration = age*365*24*60*60  #convert age into seconds\n",
    "        return f\"You Lived For {duration} Seconds\"\n",
    "    else:\n",
    "        return \"Invalid Time Enterd\"\n",
    "\n",
    "def main():\n",
    "    age = int(input(\"What's your age?\"))\n",
    "    time_unit = input(\"Please choose time unit: Months, Weeks, Days, Hours, Minutes, Seconds. \\nNote: You can write the first letter or the full name of the time unit.\") \n",
    "    duration = duration_calculator(age,time_unit) \n",
    "    print(duration)\n",
    "\n",
    "if __name__ == \"__main__\":\n",
    "    main()\n",
    "\n",
    "              \n",
    "\n",
    "\n",
    "        \n",
    "\n"
   ]
  },
  {
   "cell_type": "code",
   "execution_count": null,
   "id": "b9fa1c6c-6c1e-4752-a92d-29cf5e9e875c",
   "metadata": {},
   "outputs": [],
   "source": []
  }
 ],
 "metadata": {
  "kernelspec": {
   "display_name": "Python 3 (ipykernel)",
   "language": "python",
   "name": "python3"
  },
  "language_info": {
   "codemirror_mode": {
    "name": "ipython",
    "version": 3
   },
   "file_extension": ".py",
   "mimetype": "text/x-python",
   "name": "python",
   "nbconvert_exporter": "python",
   "pygments_lexer": "ipython3",
   "version": "3.11.7"
  }
 },
 "nbformat": 4,
 "nbformat_minor": 5
}
